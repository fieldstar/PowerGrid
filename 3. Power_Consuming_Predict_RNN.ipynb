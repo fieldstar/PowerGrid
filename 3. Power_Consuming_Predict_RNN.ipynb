{
 "cells": [
  {
   "cell_type": "markdown",
   "metadata": {},
   "source": [
    "# 利用深度神经网络进行时间序列分析预测"
   ]
  },
  {
   "cell_type": "code",
   "execution_count": 31,
   "metadata": {},
   "outputs": [],
   "source": [
    "import pandas as pd"
   ]
  },
  {
   "cell_type": "code",
   "execution_count": 32,
   "metadata": {},
   "outputs": [],
   "source": [
    "\n",
    "import matplotlib.pyplot as plt\n",
    "import statsmodels.api as sm\n",
    "import warnings\n",
    "import itertools\n",
    "from pylab import rcParams\n",
    "from statsmodels.tsa.stattools import adfuller\n",
    "from sklearn.metrics import mean_squared_error\n",
    "from statsmodels.tsa.stattools import acf, pacf\n",
    "from statsmodels.graphics.tsaplots import plot_acf, plot_pacf\n",
    "from math import sqrt\n",
    "\n",
    "import numpy as np\n",
    "import matplotlib.pyplot as plt\n",
    "import pandas as pd\n",
    "import math\n",
    "from math import sqrt\n",
    "from numpy import array\n",
    "from numpy import split\n",
    "from pylab import rcParams\n",
    "from sklearn.metrics import mean_squared_error\n",
    "from matplotlib import pyplot\n",
    "from keras.regularizers import L1L2\n",
    "from keras.models import Sequential\n",
    "from keras.layers import Dense\n",
    "from keras.layers import Flatten\n",
    "from keras.layers import LSTM\n",
    "from keras.layers import RepeatVector\n",
    "from keras.layers import TimeDistributed\n",
    "from keras.layers.convolutional import Conv1D\n",
    "from keras.layers.convolutional import MaxPooling1D\n",
    "\n",
    "import warnings\n",
    "warnings.filterwarnings('ignore')\n"
   ]
  },
  {
   "cell_type": "code",
   "execution_count": 33,
   "metadata": {},
   "outputs": [],
   "source": [
    "df_user_num=pd.read_csv(\"list_user_num.csv\",encoding='gbk')"
   ]
  },
  {
   "cell_type": "code",
   "execution_count": 34,
   "metadata": {},
   "outputs": [],
   "source": [
    "user_data_2015_2017=pd.read_csv(\"CleanedPowerConsumingData_2015_2017.csv\")"
   ]
  },
  {
   "cell_type": "code",
   "execution_count": 35,
   "metadata": {},
   "outputs": [
    {
     "data": {
      "text/plain": [
       "(3728861, 42)"
      ]
     },
     "execution_count": 35,
     "metadata": {},
     "output_type": "execute_result"
    }
   ],
   "source": [
    "user_data_2015_2017.shape"
   ]
  },
  {
   "cell_type": "code",
   "execution_count": 36,
   "metadata": {},
   "outputs": [],
   "source": [
    "user_data_monthly_2015_2017=pd.read_csv(\"CleanedPowerConsumingData_monthly_2015_2017.csv\",encoding=\"gbk\")"
   ]
  },
  {
   "cell_type": "code",
   "execution_count": 37,
   "metadata": {},
   "outputs": [
    {
     "data": {
      "text/plain": [
       "(128292, 45)"
      ]
     },
     "execution_count": 37,
     "metadata": {},
     "output_type": "execute_result"
    }
   ],
   "source": [
    "user_data_monthly_2015_2017.shape"
   ]
  },
  {
   "cell_type": "markdown",
   "metadata": {},
   "source": [
    "## 时间序列预测"
   ]
  },
  {
   "cell_type": "code",
   "execution_count": 38,
   "metadata": {},
   "outputs": [],
   "source": [
    "monthlyData = user_data_monthly_2015_2017[user_data_monthly_2015_2017['编号']==64614]  #衡阳华菱钢管有限公司\n",
    "dailyData=user_data_2015_2017[user_data_2015_2017['编号']==64614].iloc[:,1:]"
   ]
  },
  {
   "cell_type": "code",
   "execution_count": 39,
   "metadata": {},
   "outputs": [
    {
     "data": {
      "text/html": [
       "<div>\n",
       "<style scoped>\n",
       "    .dataframe tbody tr th:only-of-type {\n",
       "        vertical-align: middle;\n",
       "    }\n",
       "\n",
       "    .dataframe tbody tr th {\n",
       "        vertical-align: top;\n",
       "    }\n",
       "\n",
       "    .dataframe thead th {\n",
       "        text-align: right;\n",
       "    }\n",
       "</style>\n",
       "<table border=\"1\" class=\"dataframe\">\n",
       "  <thead>\n",
       "    <tr style=\"text-align: right;\">\n",
       "      <th></th>\n",
       "      <th>编号</th>\n",
       "      <th>HOUR1</th>\n",
       "      <th>HOUR2</th>\n",
       "      <th>HOUR3</th>\n",
       "      <th>HOUR4</th>\n",
       "      <th>HOUR5</th>\n",
       "      <th>HOUR6</th>\n",
       "      <th>HOUR7</th>\n",
       "      <th>HOUR8</th>\n",
       "      <th>HOUR9</th>\n",
       "      <th>...</th>\n",
       "      <th>平段用电量占比</th>\n",
       "      <th>谷段用电量占比</th>\n",
       "      <th>尖峰平均负荷</th>\n",
       "      <th>高峰平均负荷</th>\n",
       "      <th>平段平均负荷</th>\n",
       "      <th>谷段平均负荷</th>\n",
       "      <th>尖峰日均用电量</th>\n",
       "      <th>高峰日均用电量</th>\n",
       "      <th>平段日均用电量</th>\n",
       "      <th>谷段日均用电量</th>\n",
       "    </tr>\n",
       "  </thead>\n",
       "  <tbody>\n",
       "    <tr>\n",
       "      <th>count</th>\n",
       "      <td>24.0</td>\n",
       "      <td>2.400000e+01</td>\n",
       "      <td>2.400000e+01</td>\n",
       "      <td>2.400000e+01</td>\n",
       "      <td>2.400000e+01</td>\n",
       "      <td>2.400000e+01</td>\n",
       "      <td>2.400000e+01</td>\n",
       "      <td>2.400000e+01</td>\n",
       "      <td>2.400000e+01</td>\n",
       "      <td>2.400000e+01</td>\n",
       "      <td>...</td>\n",
       "      <td>24.000000</td>\n",
       "      <td>24.000000</td>\n",
       "      <td>24.000000</td>\n",
       "      <td>24.000000</td>\n",
       "      <td>24.000000</td>\n",
       "      <td>24.000000</td>\n",
       "      <td>24.000000</td>\n",
       "      <td>24.000000</td>\n",
       "      <td>24.000000</td>\n",
       "      <td>2.400000e+01</td>\n",
       "    </tr>\n",
       "    <tr>\n",
       "      <th>mean</th>\n",
       "      <td>64614.0</td>\n",
       "      <td>3.050850e+06</td>\n",
       "      <td>3.099831e+06</td>\n",
       "      <td>3.117981e+06</td>\n",
       "      <td>3.128369e+06</td>\n",
       "      <td>3.142731e+06</td>\n",
       "      <td>3.150431e+06</td>\n",
       "      <td>3.076700e+06</td>\n",
       "      <td>3.050269e+06</td>\n",
       "      <td>2.974919e+06</td>\n",
       "      <td>...</td>\n",
       "      <td>0.250157</td>\n",
       "      <td>0.342648</td>\n",
       "      <td>95447.661421</td>\n",
       "      <td>97001.068723</td>\n",
       "      <td>99056.609320</td>\n",
       "      <td>101704.952109</td>\n",
       "      <td>286342.984262</td>\n",
       "      <td>679007.481059</td>\n",
       "      <td>594339.655918</td>\n",
       "      <td>8.136396e+05</td>\n",
       "    </tr>\n",
       "    <tr>\n",
       "      <th>std</th>\n",
       "      <td>0.0</td>\n",
       "      <td>6.691886e+05</td>\n",
       "      <td>7.049126e+05</td>\n",
       "      <td>6.953340e+05</td>\n",
       "      <td>6.933053e+05</td>\n",
       "      <td>6.840565e+05</td>\n",
       "      <td>7.082185e+05</td>\n",
       "      <td>6.950356e+05</td>\n",
       "      <td>6.703648e+05</td>\n",
       "      <td>6.695935e+05</td>\n",
       "      <td>...</td>\n",
       "      <td>0.002781</td>\n",
       "      <td>0.004764</td>\n",
       "      <td>19462.581756</td>\n",
       "      <td>21114.565967</td>\n",
       "      <td>21783.445801</td>\n",
       "      <td>22143.025263</td>\n",
       "      <td>58387.745269</td>\n",
       "      <td>147801.961771</td>\n",
       "      <td>130700.674805</td>\n",
       "      <td>1.771442e+05</td>\n",
       "    </tr>\n",
       "    <tr>\n",
       "      <th>min</th>\n",
       "      <td>64614.0</td>\n",
       "      <td>1.188000e+06</td>\n",
       "      <td>1.188000e+06</td>\n",
       "      <td>1.267200e+06</td>\n",
       "      <td>1.214400e+06</td>\n",
       "      <td>1.214400e+06</td>\n",
       "      <td>1.188000e+06</td>\n",
       "      <td>1.240800e+06</td>\n",
       "      <td>1.135200e+06</td>\n",
       "      <td>1.293600e+06</td>\n",
       "      <td>...</td>\n",
       "      <td>0.242015</td>\n",
       "      <td>0.332478</td>\n",
       "      <td>38606.451613</td>\n",
       "      <td>38200.921659</td>\n",
       "      <td>38180.645161</td>\n",
       "      <td>39333.870968</td>\n",
       "      <td>115819.354839</td>\n",
       "      <td>267406.451613</td>\n",
       "      <td>229083.870968</td>\n",
       "      <td>3.146710e+05</td>\n",
       "    </tr>\n",
       "    <tr>\n",
       "      <th>25%</th>\n",
       "      <td>64614.0</td>\n",
       "      <td>2.927100e+06</td>\n",
       "      <td>3.062400e+06</td>\n",
       "      <td>3.012900e+06</td>\n",
       "      <td>3.069000e+06</td>\n",
       "      <td>3.121800e+06</td>\n",
       "      <td>3.062400e+06</td>\n",
       "      <td>3.009600e+06</td>\n",
       "      <td>2.970000e+06</td>\n",
       "      <td>2.943600e+06</td>\n",
       "      <td>...</td>\n",
       "      <td>0.248645</td>\n",
       "      <td>0.339254</td>\n",
       "      <td>94209.677419</td>\n",
       "      <td>96409.849254</td>\n",
       "      <td>98692.673592</td>\n",
       "      <td>101321.975806</td>\n",
       "      <td>282629.032258</td>\n",
       "      <td>674868.944779</td>\n",
       "      <td>592156.041553</td>\n",
       "      <td>8.105758e+05</td>\n",
       "    </tr>\n",
       "    <tr>\n",
       "      <th>50%</th>\n",
       "      <td>64614.0</td>\n",
       "      <td>3.214200e+06</td>\n",
       "      <td>3.300000e+06</td>\n",
       "      <td>3.379200e+06</td>\n",
       "      <td>3.438600e+06</td>\n",
       "      <td>3.319800e+06</td>\n",
       "      <td>3.353173e+06</td>\n",
       "      <td>3.280200e+06</td>\n",
       "      <td>3.293400e+06</td>\n",
       "      <td>3.180827e+06</td>\n",
       "      <td>...</td>\n",
       "      <td>0.250489</td>\n",
       "      <td>0.342240</td>\n",
       "      <td>99963.133641</td>\n",
       "      <td>103826.530612</td>\n",
       "      <td>105316.129032</td>\n",
       "      <td>108917.741935</td>\n",
       "      <td>299889.400922</td>\n",
       "      <td>726785.714286</td>\n",
       "      <td>631896.774194</td>\n",
       "      <td>8.713419e+05</td>\n",
       "    </tr>\n",
       "    <tr>\n",
       "      <th>75%</th>\n",
       "      <td>64614.0</td>\n",
       "      <td>3.412200e+06</td>\n",
       "      <td>3.498000e+06</td>\n",
       "      <td>3.517800e+06</td>\n",
       "      <td>3.530441e+06</td>\n",
       "      <td>3.527700e+06</td>\n",
       "      <td>3.514500e+06</td>\n",
       "      <td>3.484800e+06</td>\n",
       "      <td>3.366000e+06</td>\n",
       "      <td>3.372600e+06</td>\n",
       "      <td>...</td>\n",
       "      <td>0.251925</td>\n",
       "      <td>0.345281</td>\n",
       "      <td>107963.225806</td>\n",
       "      <td>108279.539171</td>\n",
       "      <td>110073.333333</td>\n",
       "      <td>113363.601671</td>\n",
       "      <td>323889.677419</td>\n",
       "      <td>757956.774194</td>\n",
       "      <td>660440.000000</td>\n",
       "      <td>9.069088e+05</td>\n",
       "    </tr>\n",
       "    <tr>\n",
       "      <th>max</th>\n",
       "      <td>64614.0</td>\n",
       "      <td>3.942400e+06</td>\n",
       "      <td>3.889600e+06</td>\n",
       "      <td>3.854400e+06</td>\n",
       "      <td>3.819200e+06</td>\n",
       "      <td>3.942400e+06</td>\n",
       "      <td>3.889600e+06</td>\n",
       "      <td>3.819200e+06</td>\n",
       "      <td>3.990800e+06</td>\n",
       "      <td>3.696000e+06</td>\n",
       "      <td>...</td>\n",
       "      <td>0.254442</td>\n",
       "      <td>0.352374</td>\n",
       "      <td>119093.333333</td>\n",
       "      <td>122508.571429</td>\n",
       "      <td>124691.111111</td>\n",
       "      <td>127664.166667</td>\n",
       "      <td>357280.000000</td>\n",
       "      <td>857560.000000</td>\n",
       "      <td>748146.666667</td>\n",
       "      <td>1.021313e+06</td>\n",
       "    </tr>\n",
       "  </tbody>\n",
       "</table>\n",
       "<p>8 rows × 44 columns</p>\n",
       "</div>"
      ],
      "text/plain": [
       "            编号         HOUR1         HOUR2         HOUR3         HOUR4  \\\n",
       "count     24.0  2.400000e+01  2.400000e+01  2.400000e+01  2.400000e+01   \n",
       "mean   64614.0  3.050850e+06  3.099831e+06  3.117981e+06  3.128369e+06   \n",
       "std        0.0  6.691886e+05  7.049126e+05  6.953340e+05  6.933053e+05   \n",
       "min    64614.0  1.188000e+06  1.188000e+06  1.267200e+06  1.214400e+06   \n",
       "25%    64614.0  2.927100e+06  3.062400e+06  3.012900e+06  3.069000e+06   \n",
       "50%    64614.0  3.214200e+06  3.300000e+06  3.379200e+06  3.438600e+06   \n",
       "75%    64614.0  3.412200e+06  3.498000e+06  3.517800e+06  3.530441e+06   \n",
       "max    64614.0  3.942400e+06  3.889600e+06  3.854400e+06  3.819200e+06   \n",
       "\n",
       "              HOUR5         HOUR6         HOUR7         HOUR8         HOUR9  \\\n",
       "count  2.400000e+01  2.400000e+01  2.400000e+01  2.400000e+01  2.400000e+01   \n",
       "mean   3.142731e+06  3.150431e+06  3.076700e+06  3.050269e+06  2.974919e+06   \n",
       "std    6.840565e+05  7.082185e+05  6.950356e+05  6.703648e+05  6.695935e+05   \n",
       "min    1.214400e+06  1.188000e+06  1.240800e+06  1.135200e+06  1.293600e+06   \n",
       "25%    3.121800e+06  3.062400e+06  3.009600e+06  2.970000e+06  2.943600e+06   \n",
       "50%    3.319800e+06  3.353173e+06  3.280200e+06  3.293400e+06  3.180827e+06   \n",
       "75%    3.527700e+06  3.514500e+06  3.484800e+06  3.366000e+06  3.372600e+06   \n",
       "max    3.942400e+06  3.889600e+06  3.819200e+06  3.990800e+06  3.696000e+06   \n",
       "\n",
       "       ...    平段用电量占比    谷段用电量占比         尖峰平均负荷         高峰平均负荷         平段平均负荷  \\\n",
       "count  ...  24.000000  24.000000      24.000000      24.000000      24.000000   \n",
       "mean   ...   0.250157   0.342648   95447.661421   97001.068723   99056.609320   \n",
       "std    ...   0.002781   0.004764   19462.581756   21114.565967   21783.445801   \n",
       "min    ...   0.242015   0.332478   38606.451613   38200.921659   38180.645161   \n",
       "25%    ...   0.248645   0.339254   94209.677419   96409.849254   98692.673592   \n",
       "50%    ...   0.250489   0.342240   99963.133641  103826.530612  105316.129032   \n",
       "75%    ...   0.251925   0.345281  107963.225806  108279.539171  110073.333333   \n",
       "max    ...   0.254442   0.352374  119093.333333  122508.571429  124691.111111   \n",
       "\n",
       "              谷段平均负荷        尖峰日均用电量        高峰日均用电量        平段日均用电量  \\\n",
       "count      24.000000      24.000000      24.000000      24.000000   \n",
       "mean   101704.952109  286342.984262  679007.481059  594339.655918   \n",
       "std     22143.025263   58387.745269  147801.961771  130700.674805   \n",
       "min     39333.870968  115819.354839  267406.451613  229083.870968   \n",
       "25%    101321.975806  282629.032258  674868.944779  592156.041553   \n",
       "50%    108917.741935  299889.400922  726785.714286  631896.774194   \n",
       "75%    113363.601671  323889.677419  757956.774194  660440.000000   \n",
       "max    127664.166667  357280.000000  857560.000000  748146.666667   \n",
       "\n",
       "            谷段日均用电量  \n",
       "count  2.400000e+01  \n",
       "mean   8.136396e+05  \n",
       "std    1.771442e+05  \n",
       "min    3.146710e+05  \n",
       "25%    8.105758e+05  \n",
       "50%    8.713419e+05  \n",
       "75%    9.069088e+05  \n",
       "max    1.021313e+06  \n",
       "\n",
       "[8 rows x 44 columns]"
      ]
     },
     "execution_count": 39,
     "metadata": {},
     "output_type": "execute_result"
    }
   ],
   "source": [
    "monthlyData.describe()"
   ]
  },
  {
   "cell_type": "code",
   "execution_count": 40,
   "metadata": {},
   "outputs": [],
   "source": [
    "# 将数据集拆分为训练集和测试集\n",
    "def split_dataset(data):\n",
    "    # 后360天用于测试\n",
    "    train, test = data[:-360], data[-360:]\n",
    "    train = array(split(array(train), len(train)/10))\n",
    "    test = array(split(array(test), len(test)/10))\n",
    "    return train, test"
   ]
  },
  {
   "cell_type": "code",
   "execution_count": 41,
   "metadata": {},
   "outputs": [],
   "source": [
    "dailyData_consuming=dailyData.iloc[10:,-10:-1]  #预测这几个属性：日用电量\t尖峰用电量占比\t高峰用电量占比\t平段用电量占比\t谷段用电量占比\t尖峰平均负荷\t高峰平均负荷\t平段平均负荷\t谷段平均负荷\n",
    "\n",
    "train,test=split_dataset(dailyData_consuming)"
   ]
  },
  {
   "cell_type": "code",
   "execution_count": 42,
   "metadata": {},
   "outputs": [
    {
     "data": {
      "text/plain": [
       "(720, 9)"
      ]
     },
     "execution_count": 42,
     "metadata": {},
     "output_type": "execute_result"
    }
   ],
   "source": [
    "dailyData_consuming.shape"
   ]
  },
  {
   "cell_type": "code",
   "execution_count": 43,
   "metadata": {},
   "outputs": [
    {
     "data": {
      "text/plain": [
       "(36, 10, 9)"
      ]
     },
     "execution_count": 43,
     "metadata": {},
     "output_type": "execute_result"
    }
   ],
   "source": [
    "train.shape"
   ]
  },
  {
   "cell_type": "code",
   "execution_count": 44,
   "metadata": {},
   "outputs": [],
   "source": [
    "def prepare_rnn_data(train, n_input=30, n_out=10,i_FEATURES=0): #按照X取30的数据，y为紧接着的10天数据的样式，构建模型的输入和输出 X的shape为[:,30,1], y的shape为[,10]\n",
    "    # flatten data\n",
    "    data = train.reshape((train.shape[0]*train.shape[1], train.shape[2]))\n",
    "    X, y = list(), list()\n",
    "    in_start = 0\n",
    "    # 按照时间跨度，以遍历方式构建数据信\n",
    "    for _ in range(len(data)):\n",
    "        # define the end of the input sequence\n",
    "        in_end = in_start + n_input\n",
    "        out_end = in_end + n_out\n",
    "       \n",
    "        if out_end < len(data):\n",
    "            x_input = data[in_start:in_end, i_FEATURES]\n",
    "            x_input = x_input.reshape((len(x_input), 1))\n",
    "            X.append(x_input)\n",
    "            y.append(data[in_end:out_end,i_FEATURES])\n",
    "        \n",
    "        in_start += 1\n",
    "    return array(X), array(y)"
   ]
  },
  {
   "cell_type": "code",
   "execution_count": 45,
   "metadata": {},
   "outputs": [],
   "source": [
    "# 定义训练模型\n",
    "def build_model(train,n_input=30, n_out=10,i_FEATURES=0):\n",
    "    # prepare data\n",
    "    train_x, train_y = prepare_rnn_data(train, n_input,n_out,i_FEATURES)\n",
    "    # define parameters\n",
    "    verbose, epochs, batch_size = 0,200, 90\n",
    "    n_timesteps, n_features, n_outputs = train_x.shape[1], train_x.shape[2], train_y.shape[1]\n",
    "    # define model\n",
    "    model = Sequential()\n",
    "    model.add(LSTM(200, activation='relu', input_shape=(n_timesteps, n_features), bias_regularizer=L1L2(l1=0.01, l2=0.01)))\n",
    "    model.add(Dense(100, activation='relu'))\n",
    "    model.add(Dense(n_outputs))\n",
    "    model.compile(loss='mse', optimizer='adam')\n",
    "    # fit network\n",
    "    model.fit(train_x, train_y, epochs=epochs, batch_size=batch_size, verbose=verbose)\n",
    "    return model"
   ]
  },
  {
   "cell_type": "code",
   "execution_count": 46,
   "metadata": {},
   "outputs": [],
   "source": [
    "# 定义带卷积的训练模型\n",
    "def build_model_cnn(train,n_input=30, n_out=10,i_FEATURES=0):\n",
    "    # prepare data\n",
    "    train_x, train_y = prepare_rnn_data(train, n_input,n_out,i_FEATURES)\n",
    "    # define parameters\n",
    "    verbose, epochs, batch_size = 0, 200, 90\n",
    "    n_list,n_timesteps, n_features, n_outputs = train_x.shape[0],train_x.shape[1], train_x.shape[2], train_y.shape[1]\n",
    "    # reshape output into [samples, timesteps, features]\n",
    "    train_y = train_y.reshape((train_y.shape[0], train_y.shape[1], 1))\n",
    "    # define model\n",
    "    model = Sequential()\n",
    "    model.add(Conv1D(filters=64, kernel_size=3, activation='relu', input_shape=(n_timesteps,n_features)))\n",
    "    model.add(Conv1D(filters=64, kernel_size=3, activation='relu'))\n",
    "    model.add(MaxPooling1D(pool_size=2))\n",
    "    model.add(Flatten())\n",
    "    model.add(RepeatVector(n_outputs))\n",
    "    model.add(LSTM(200, activation='relu', return_sequences=True, bias_regularizer=L1L2(l1=0.01, l2=0.01)))\n",
    "    model.add(TimeDistributed(Dense(100, activation='relu')))\n",
    "    model.add(TimeDistributed(Dense(1)))\n",
    "    model.compile(loss='mse', optimizer='adam')\n",
    "    # fit network\n",
    "    model.fit(train_x, train_y, epochs=epochs, batch_size=batch_size, verbose=verbose)\n",
    "    return model"
   ]
  },
  {
   "cell_type": "code",
   "execution_count": 47,
   "metadata": {},
   "outputs": [],
   "source": [
    "# 进行预测\n",
    "def forecast(model, history, n_input,i_FEATURES=0):\n",
    "    # flatten data\n",
    "    data = array(history)\n",
    "    data = data.reshape((data.shape[0]*data.shape[1], data.shape[2]))\n",
    "    # retrieve last observations for input data\n",
    "    input_x = data[-n_input:, i_FEATURES]\n",
    "    # reshape into [1, n_input, 1]\n",
    "    input_x = input_x.reshape((1, len(input_x), 1))\n",
    "    # forecast the next week\n",
    "    yhat = model.predict(input_x, verbose=0)\n",
    "    # we only want the vector forecast\n",
    "    #print(\"yhat in forecast is:\",yhat,\" his shape is:\",yhat.shape)\n",
    "    yhat = yhat[0]\n",
    "    return yhat"
   ]
  },
  {
   "cell_type": "code",
   "execution_count": 48,
   "metadata": {},
   "outputs": [],
   "source": [
    "# 评价模型\n",
    "def evaluate_model(train, test, n_input,n_out,i_FEATURES=0):\n",
    "    # fit model\n",
    "    model = build_model(train, n_input,n_out,i_FEATURES)\n",
    "    \n",
    "    history = [x for x in train]\n",
    "    \n",
    "    predictions = list()\n",
    "    for i in range(len(test)):\n",
    "        # predict \n",
    "        yhat_sequence = forecast(model, history, n_input,i_FEATURES)\n",
    "        #print(\"yhat is:\",yhat_sequence,\"shape of yhat is:\",yhat_sequence.shape)\n",
    "        # store the predictions\n",
    "        predictions.append(yhat_sequence)\n",
    "        \n",
    "        # get real observation and add to history for predicting the next period\n",
    "        history.append(test[i,:])\n",
    "    # evaluate predictions days for each period\n",
    "    predictions = array(predictions)\n",
    "    score, scores = evaluate_forecasts(test[:, :, i_FEATURES], predictions)\n",
    "    return score, scores, predictions"
   ]
  },
  {
   "cell_type": "code",
   "execution_count": 49,
   "metadata": {},
   "outputs": [
    {
     "data": {
      "text/plain": [
       "(36, 10, 9)"
      ]
     },
     "execution_count": 49,
     "metadata": {},
     "output_type": "execute_result"
    }
   ],
   "source": [
    "test.shape"
   ]
  },
  {
   "cell_type": "code",
   "execution_count": 50,
   "metadata": {},
   "outputs": [],
   "source": [
    "# 评价带卷积的LSTM模型\n",
    "def evaluate_model_cnn(train, test, n_input,n_out,i_FEATURES=0):\n",
    "    # fit model\n",
    "    model = build_model_cnn(train, n_input,n_out,i_FEATURES)\n",
    "    history = [x for x in train]\n",
    "    # walk-forward validation over each period\n",
    "    predictions = list()\n",
    "    for i in range(len(test)):\n",
    "        # predict  \n",
    "        yhat_sequence = forecast(model, history, n_input,i_FEATURES)\n",
    "        # store the predictions\n",
    "        predictions.append(yhat_sequence)\n",
    "        # get real observation and add to history for predicting the next period\n",
    "        history.append(test[i, :])\n",
    "    # evaluate predictions days for each period\n",
    "    predictions = array(predictions)\n",
    "    score, scores = evaluate_forecasts(test[:, :,i_FEATURES], predictions)\n",
    "    return score, scores, predictions"
   ]
  },
  {
   "cell_type": "code",
   "execution_count": 51,
   "metadata": {},
   "outputs": [],
   "source": [
    "# 评价预测结果\n",
    "def evaluate_forecasts(actual, predicted):\n",
    "    scores = list()\n",
    "    # calculate an RMSE score for each day\n",
    "    for i in range(actual.shape[1]): #计算相同Weekday的MSE，再构建成一个scores列表\n",
    "        # calculate mse\n",
    "        #print(\"actual[:, i]:\",actual[:, i])\n",
    "        #print(\"predicted[:,i] is:\",predicted[:, i])\n",
    "        mse = mean_squared_error(actual[:, i], predicted[:, i])\n",
    "\n",
    "        # calculate rmse\n",
    "        rmse = sqrt(mse)\n",
    "        # store\n",
    "        scores.append(rmse)\n",
    "# calculate overall RMSE\n",
    "    s = 0\n",
    "    for row in range(actual.shape[0]):\n",
    "        for col in range(actual.shape[1]):\n",
    "            s += (actual[row, col] - predicted[row, col])**2\n",
    "    score = sqrt(s / (actual.shape[0] * actual.shape[1]))\n",
    "    return score, scores"
   ]
  },
  {
   "cell_type": "code",
   "execution_count": 52,
   "metadata": {},
   "outputs": [],
   "source": [
    "# 汇总评价结果\n",
    "def summarize_scores(name, score, scores):\n",
    "    s_scores = ', '.join(['%.1f' % s for s in scores])\n",
    "    print('%s: [%.3f] %s' % (name, score, s_scores))\n",
    "    "
   ]
  },
  {
   "cell_type": "code",
   "execution_count": 53,
   "metadata": {},
   "outputs": [
    {
     "name": "stdout",
     "output_type": "stream",
     "text": [
      "36\n",
      "36\n",
      "36\n",
      "lstm: [787983.525] 663967.0, 690443.7, 660130.3, 745053.3, 784912.2, 809440.7, 869875.3, 871761.8, 850536.7, 888478.0\n",
      "lstm_cnn: [739742.488] 610851.6, 617060.2, 607656.6, 738126.2, 770455.4, 818219.2, 791639.7, 810685.0, 770120.6, 814945.8\n"
     ]
    }
   ],
   "source": [
    "n_input = 10\n",
    "n_out=10\n",
    "i_features=0  #预测第几个特征 0:日用电量,1:尖峰用电量占比,2:高峰用电量占比,3:平段用电量占比,4:谷段用电量占比,5:尖峰平均负荷,6:高峰平均负荷,7:平段平均负荷,8:谷段平均负荷\n",
    "score, scores, predictions = evaluate_model(train, test, n_input,n_out,i_features)\n",
    "score_cnn, scores_cnn, predictions_cnn = evaluate_model_cnn(train, test, n_input,n_out,i_features)\n",
    "\n",
    "#print(predictions)\n",
    "print(len(train))\n",
    "print(len(test))\n",
    "print(len(predictions))\n",
    "\n",
    "# summarize scores\n",
    "summarize_scores('lstm', score, scores)\n",
    "summarize_scores('lstm_cnn', score_cnn, scores_cnn)"
   ]
  },
  {
   "cell_type": "code",
   "execution_count": 54,
   "metadata": {},
   "outputs": [
    {
     "data": {
      "image/png": "[encoded data removed]",
      "text/plain": [
       "<Figure size 432x288 with 1 Axes>"
      ]
     },
     "metadata": {
      "needs_background": "light"
     },
     "output_type": "display_data"
    }
   ],
   "source": [
    "# plot scores\n",
    "days =[x for x in range(10)]\n",
    "\n",
    "pyplot.rcParams['font.size'] = 14\n",
    "pyplot.rcParams['font.sans-serif'] = ['SimHei']\n",
    "pyplot.rcParams['axes.unicode_minus'] = False\n",
    "pyplot.plot(days, scores, marker='o', label='lstm')\n",
    "pyplot.plot(days, scores_cnn, marker='o', label='lstm_cnn')\n",
    "pyplot.legend()\n",
    "pyplot.xlabel('日期')\n",
    "pyplot.ylabel('RMSE-均方根误差')\n",
    "pyplot.show()"
   ]
  },
  {
   "cell_type": "code",
   "execution_count": 55,
   "metadata": {},
   "outputs": [
    {
     "name": "stdout",
     "output_type": "stream",
     "text": [
      "(36, 10)\n",
      "360\n",
      "360\n"
     ]
    },
    {
     "data": {
      "image/png": "[encoded data removed]",
      "text/plain": [
       "<Figure size 432x288 with 1 Axes>"
      ]
     },
     "metadata": {
      "needs_background": "light"
     },
     "output_type": "display_data"
    }
   ],
   "source": [
    "print(predictions.shape)\n",
    "x_values = []\n",
    "y_values = []\n",
    "y_values_cnn = []\n",
    "for i in range(len(test)):\n",
    "    for j in range(10):\n",
    "        x_values.append(test[i, j, i_features])\n",
    "        y_values.append(predictions[i, j])\n",
    "        y_values_cnn.append(predictions_cnn[i, j])\n",
    "print(len(x_values))\n",
    "print(len(y_values))\n",
    "pyplot.plot(range(1,len(x_values)+1), x_values, label = '日用电量真实值')\n",
    "pyplot.plot(range(1,len(y_values)+1), y_values, label = '预测值(LSTM)')\n",
    "pyplot.plot(range(1,len(y_values_cnn)+1), y_values_cnn, label = '预测值(CNN+LSTM)')\n",
    "pyplot.legend()\n",
    "pyplot.xlabel('天数')\n",
    "pyplot.ylabel('预测值')\n",
    "pyplot.show()"
   ]
  },
  {
   "cell_type": "code",
   "execution_count": null,
   "metadata": {},
   "outputs": [],
   "source": []
  },
  {
   "cell_type": "code",
   "execution_count": null,
   "metadata": {},
   "outputs": [],
   "source": []
  }
 ],
 "metadata": {
  "kernelspec": {
   "display_name": "Python 3",
   "language": "python",
   "name": "python3"
  },
  "language_info": {
   "codemirror_mode": {
    "name": "ipython",
    "version": 3
   },
   "file_extension": ".py",
   "mimetype": "text/x-python",
   "name": "python",
   "nbconvert_exporter": "python",
   "pygments_lexer": "ipython3",
   "version": "3.7.3"
  }
 },
 "nbformat": 4,
 "nbformat_minor": 2
}
